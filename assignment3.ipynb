{
 "cells": [
  {
   "cell_type": "markdown",
   "id": "245217cc",
   "metadata": {},
   "source": [
    "# Assignment: SVD Preprocessing on MNIST with Logistic Regression"
   ]
  },
  {
   "cell_type": "markdown",
   "id": "deffa444",
   "metadata": {},
   "source": [
    "## Instructions:\n",
    "In this assignment, you will apply **Singular Value Decomposition (SVD)** as a preprocessing step to the **MNIST dataset** and train a **logistic regression classifier**. You will compare the model performance and training time when using different levels of SVD for dimensionality reduction.\n",
    "\n",
    "In this assignment, you will need to:\n",
    "1. Load the MNIST dataset and normalize it.\n",
    "2. Perform SVD and reduce the dimensions of the data.\n",
    "3. Train a logistic regression model on the original and SVD-reduced data.\n",
    "4. Measure and compare the training time and accuracy of the model with varying SVD components.\n",
    "5. Plot the results and analyze how SVD impacts the performance and efficiency of the model.\n",
    "\n",
    "***\n",
    "Your tasks include:\n",
    "1. Implement SVD algorithm. You are not allowed to directly use SVD implemented by other packages, but you may use functions in NumPy. (Part 2)\n",
    "2. Explore the accuracy and time performance from different numbers of SVD components. (Part 4)\n",
    "3. Visualize the accuracy, time performance and top 5 singular vectors in the dataset, analyze and explain which number of SVD component looks best to you? (Part 4,5&6) Hint: singular vectors should be reshaped to 28x28 images for visualization.\n",
    "***\n",
    "**Note that you may not import any other function or package.** Let's get started!\n"
   ]
  },
  {
   "cell_type": "markdown",
   "id": "b3e10cb3",
   "metadata": {},
   "source": [
    "## Part 1: Load the MNIST dataset and preprocess the data"
   ]
  },
  {
   "cell_type": "code",
   "execution_count": 1,
   "id": "79f2d907",
   "metadata": {},
   "outputs": [
    {
     "name": "stdout",
     "output_type": "stream",
     "text": [
      "Loading MNIST dataset...\n",
      "MNIST dataset loaded successfully.\n",
      "Shape of feature data (X): (70000, 784)\n",
      "Shape of labels (y): (70000,)\n",
      "Data normalization complete.\n",
      "Training and testing data split complete.\n",
      "Training set shape: (56000, 784), Testing set shape: (14000, 784)\n"
     ]
    }
   ],
   "source": [
    "import numpy as np\n",
    "import matplotlib.pyplot as plt\n",
    "import time\n",
    "from sklearn.linear_model import LogisticRegression\n",
    "from sklearn.model_selection import train_test_split\n",
    "from sklearn.datasets import fetch_openml\n",
    "from sklearn.metrics import accuracy_score, classification_report\n",
    "\n",
    "# Load MNIST dataset\n",
    "print(\"Loading MNIST dataset...\")\n",
    "mnist = fetch_openml('mnist_784', version=1)\n",
    "X = mnist.data\n",
    "y = mnist.target\n",
    "\n",
    "# Confirm loading by printing the shapes\n",
    "print(\"MNIST dataset loaded successfully.\")\n",
    "print(f\"Shape of feature data (X): {X.shape}\")  # Should be (70000, 784)\n",
    "print(f\"Shape of labels (y): {y.shape}\")        # Should be (70000,)\n",
    "\n",
    "# Normalize the data\n",
    "X = X / 255.0\n",
    "print(\"Data normalization complete.\")\n",
    "\n",
    "# Split into training and test sets\n",
    "X_train, X_test, y_train, y_test = train_test_split(X, y, test_size=0.2, random_state=42)\n",
    "print(\"Training and testing data split complete.\")\n",
    "print(f\"Training set shape: {X_train.shape}, Testing set shape: {X_test.shape}\")\n"
   ]
  },
  {
   "cell_type": "markdown",
   "id": "28b8572d",
   "metadata": {},
   "source": [
    "## Part 2: Implement SVD for Dimensionality Reduction"
   ]
  },
  {
   "cell_type": "code",
   "execution_count": 8,
   "id": "b3bd59f3",
   "metadata": {},
   "outputs": [],
   "source": [
    "def apply_svd_custom(X_train, X_test, n_components):\n",
    "    covariance_matrix = np.dot(X_train.T, X_train)\n",
    "    \n",
    "    # Compute eigenvalues and eigenvectors\n",
    "    eigenvalues, V = np.linalg.eigh(covariance_matrix)\n",
    "\n",
    "    # Sort eigenvalues and eigenvectors in descending order\n",
    "    idx = np.argsort(eigenvalues)[::-1]\n",
    "    eigenvalues = eigenvalues[idx]\n",
    "    V = V[:, idx]\n",
    "\n",
    "    # Keep only the top n_components singular vectors\n",
    "    V_reduced = V[:, :n_components]\n",
    "\n",
    "    # Project the data onto the reduced singular vectors\n",
    "    X_train_reduced = np.dot(X_train, V_reduced)\n",
    "    X_test_reduced = np.dot(X_test, V_reduced)\n",
    "\n",
    "    # Normalize the reduced data\n",
    "    norms = np.linalg.norm(X_train_reduced, axis=0)\n",
    "    norms[norms == 0] = 1\n",
    "    X_train_reduced /= norms\n",
    "    X_test_reduced /= norms\n",
    "\n",
    "    # Return reduced data and the entire V matrix for visualization\n",
    "    return X_train_reduced, X_test_reduced, V"
   ]
  },
  {
   "cell_type": "markdown",
   "id": "eb2a7a9d",
   "metadata": {},
   "source": [
    "## Part 3: Train Logistic Regression and Measure Performance"
   ]
  },
  {
   "cell_type": "code",
   "execution_count": 9,
   "id": "dbfc0b10",
   "metadata": {},
   "outputs": [],
   "source": [
    "# Function to train logistic regression and track training time\n",
    "def train_logistic_regression(X_train, y_train, X_test, y_test):\n",
    "    model = LogisticRegression(max_iter=1000, solver='saga', random_state=42, multi_class='multinomial')\n",
    "    \n",
    "    # Measure training time\n",
    "    start_time = time.time()\n",
    "    model.fit(X_train, y_train)\n",
    "    training_time = time.time() - start_time\n",
    "    \n",
    "    y_pred = model.predict(X_test)\n",
    "    accuracy = accuracy_score(y_test, y_pred)\n",
    "    \n",
    "    return accuracy, training_time\n"
   ]
  },
  {
   "cell_type": "markdown",
   "id": "2e557a05",
   "metadata": {},
   "source": [
    "## Part 4: Experiment with Different Levels of SVD\n",
    "\n",
    "Now, apply SVD with varying numbers of components and observe how the dimensionality reduction impacts the model's performance. Record both the accuracy and training time for each number of components.\n"
   ]
  },
  {
   "cell_type": "code",
   "execution_count": 10,
   "id": "3a460725",
   "metadata": {
    "scrolled": true
   },
   "outputs": [
    {
     "name": "stdout",
     "output_type": "stream",
     "text": [
      "Training models with different levels of SVD preprocessing...\n",
      "Applying custom SVD with 784 components...\n",
      "SVD components: 784, Accuracy: 0.8261, Training time: 68.5516 seconds\n",
      "Applying custom SVD with 300 components...\n",
      "SVD components: 300, Accuracy: 0.8274, Training time: 9.3233 seconds\n",
      "Applying custom SVD with 100 components...\n",
      "SVD components: 100, Accuracy: 0.8226, Training time: 3.2263 seconds\n",
      "Applying custom SVD with 50 components...\n",
      "SVD components: 50, Accuracy: 0.8114, Training time: 1.6463 seconds\n",
      "Applying custom SVD with 20 components...\n",
      "SVD components: 20, Accuracy: 0.7561, Training time: 0.7667 seconds\n",
      "Applying custom SVD with 10 components...\n",
      "SVD components: 10, Accuracy: 0.6384, Training time: 0.5413 seconds\n"
     ]
    }
   ],
   "source": [
    "svd_components = [784, 300, 100, 50, 20, 10]  # Adjust these values to experiment with different levels of reduction\n",
    "\n",
    "# Store the results\n",
    "results = []\n",
    "singular_vectors_list = []\n",
    "\n",
    "print(\"Training models with different levels of SVD preprocessing...\")\n",
    "for n_components in svd_components:\n",
    "    print(f\"Applying custom SVD with {n_components} components...\")\n",
    "\n",
    "    # Apply SVD to the training and test sets\n",
    "    # Call apply_svd_custom() here...\n",
    "    X_train_svd, X_test_svd, top_singular_vectors = apply_svd_custom(X_train, X_test, n_components)\n",
    "    # Train the logistic regression model and get accuracy and training time\n",
    "    accuracy, training_time = train_logistic_regression(X_train_svd, y_train, X_test_svd, y_test)\n",
    "\n",
    "    results.append((n_components, accuracy, training_time))\n",
    "    singular_vectors_list.append(top_singular_vectors)\n",
    "    print(f\"SVD components: {n_components}, Accuracy: {accuracy:.4f}, Training time: {training_time:.4f} seconds\")\n",
    "\n"
   ]
  },
  {
   "cell_type": "markdown",
   "id": "ea7aca12",
   "metadata": {},
   "source": [
    "## Part 5: Visualize and Analyze the Results\n",
    "\n",
    "Finally, plot the accuracy, training time as a function of the number of SVD components, and top 5 singular vectors. This will help you understand the trade-off between dimensionality reduction, accuracy, and model training time, and how SVD generally works. Hint: singular vectors should be reshaped to 28x28 images for visualization.\n"
   ]
  },
  {
   "cell_type": "code",
   "execution_count": 11,
   "id": "92ef0497",
   "metadata": {
    "scrolled": false
   },
   "outputs": [
    {
     "data": {
      "image/png": "[encoded data removed]",
      "text/plain": [
       "<Figure size 1008x360 with 2 Axes>"
      ]
     },
     "metadata": {
      "needs_background": "light"
     },
     "output_type": "display_data"
    },
    {
     "data": {
      "image/png": "[encoded data removed]",
      "text/plain": [
       "<Figure size 720x144 with 5 Axes>"
      ]
     },
     "metadata": {
      "needs_background": "light"
     },
     "output_type": "display_data"
    }
   ],
   "source": [
    "import matplotlib.pyplot as plt\n",
    "import pandas as pd\n",
    "\n",
    "# Function to plot accuracy and training time\n",
    "def plot_accuracy_and_training_time(results_df):\n",
    "    plt.figure(figsize=(14, 5))\n",
    "\n",
    "    # Plot Accuracy\n",
    "    plt.subplot(1, 2, 1)\n",
    "    plt.plot(results_df['SVD Components'], results_df['Accuracy'], marker='o', color='b')\n",
    "    plt.title(\"Accuracy vs Number of SVD Components\")\n",
    "    plt.xlabel(\"Number of SVD Components\")\n",
    "    plt.ylabel(\"Accuracy\")\n",
    "\n",
    "    # Plot Training Time\n",
    "    plt.subplot(1, 2, 2)\n",
    "    plt.plot(results_df['SVD Components'], results_df['Training Time'], marker='o', color='r')\n",
    "    plt.title(\"Training Time vs Number of SVD Components\")\n",
    "    plt.xlabel(\"Number of SVD Components\")\n",
    "    plt.ylabel(\"Training Time (seconds)\")\n",
    "\n",
    "    plt.tight_layout()\n",
    "    plt.show()\n",
    "\n",
    "# Function to visualize the top 5 singular vectors\n",
    "def visualize_top_singular_vectors(singular_vectors_list):\n",
    "    # Visualize the top 5 singular vectors from the first SVD application\n",
    "    top_5_singular_vectors = singular_vectors_list[0][:, :5]  # Take top 5 vectors from the first SVD\n",
    "    plt.figure(figsize=(10, 2))\n",
    "\n",
    "    for i in range(5):\n",
    "        plt.subplot(1, 5, i+1)\n",
    "        plt.imshow(top_5_singular_vectors[:, i].reshape(28, 28), cmap='gray')\n",
    "        plt.title(f\"Vector {i+1}\")\n",
    "        plt.axis('off')\n",
    "\n",
    "    plt.tight_layout()\n",
    "    plt.show()\n",
    "\n",
    "# Assuming results_df and singular_vectors_list are populated\n",
    "plot_accuracy_and_training_time(results_df)\n",
    "visualize_top_singular_vectors(singular_vectors_list)"
   ]
  },
  {
   "cell_type": "markdown",
   "id": "4210569a",
   "metadata": {},
   "source": [
    "## Part 6: Analyze / Conclusion \n",
    "\n",
    "YOUR ANSWER: "
   ]
  },
  {
   "cell_type": "code",
   "execution_count": null,
   "id": "d47f043c",
   "metadata": {},
   "outputs": [],
   "source": [
    "The results of applying SVD to the MNIST dataset shows a trade-off between dimensionality reduction, \n",
    "model accuracy, and training time. Based on the graphs, we see that as the number of SVD componenets increase,\n",
    "the accuracy plateaus to around .92 or 92%. As the number of SVD components increases from 10 to 100, the training\n",
    "time goes up drastically too with a significant jump after 100 components, illustrating the computational \n",
    "cost of using more features.This is also because we know that the more SVD components,captures more variance in the\n",
    "dataset. In the context of image data like MNIST, the first few singular vectors capture the most important, \n",
    "high-level features of the images, while later components capture finer details and noise.This demonstrates that \n",
    "around 100 components is an optimal balance, offering high accuracy while keeping training times manageable. The\n",
    "visualization of the top 5 singular vectors, reshaped into 28x28 images, provides insight into the patterns\n",
    "that the model relies on to differentiate between digits, with the first vector highlighting general digit shapes\n",
    "and subsequent vectors capturing specific details. Vector 1 captures the general shape of the digits, \n",
    "showing a smooth and broad pattern like the digit “9” or “0”. Vector 2 highlights sharper details related to digit \n",
    "outlines, specifically emphasizing the “0” shape, while Vector 3, 4, 5 show some sharper details of the number like \n",
    "3 or 9"
   ]
  }
 ],
 "metadata": {
  "kernelspec": {
   "display_name": "Python 3 (ipykernel)",
   "language": "python",
   "name": "python3"
  },
  "language_info": {
   "codemirror_mode": {
    "name": "ipython",
    "version": 3
   },
   "file_extension": ".py",
   "mimetype": "text/x-python",
   "name": "python",
   "nbconvert_exporter": "python",
   "pygments_lexer": "ipython3",
   "version": "3.9.12"
  }
 },
 "nbformat": 4,
 "nbformat_minor": 5
}
